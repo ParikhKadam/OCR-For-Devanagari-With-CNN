{
  "nbformat": 4,
  "nbformat_minor": 0,
  "metadata": {
    "colab": {
      "name": "Optical Character Recognition.ipynb",
      "version": "0.3.2",
      "provenance": [],
      "collapsed_sections": []
    },
    "kernelspec": {
      "name": "python3",
      "display_name": "Python 3"
    },
    "accelerator": "GPU"
  },
  "cells": [
    {
      "cell_type": "code",
      "metadata": {
        "id": "qOkgGD9hFNdN",
        "colab_type": "code",
        "outputId": "a6f7db00-f574-4797-8a54-cf4f1dbeaf89",
        "colab": {
          "base_uri": "https://localhost:8080/",
          "height": 122
        }
      },
      "source": [
        "# Run this cell to mount your Google Drive.\n",
        "from google.colab import drive\n",
        "drive.mount('/content/drive')"
      ],
      "execution_count": 1,
      "outputs": [
        {
          "output_type": "stream",
          "text": [
            "Go to this URL in a browser: https://accounts.google.com/o/oauth2/auth?client_id=947318989803-6bn6qk8qdgf4n4g3pfee6491hc0brc4i.apps.googleusercontent.com&redirect_uri=urn%3Aietf%3Awg%3Aoauth%3A2.0%3Aoob&scope=email%20https%3A%2F%2Fwww.googleapis.com%2Fauth%2Fdocs.test%20https%3A%2F%2Fwww.googleapis.com%2Fauth%2Fdrive%20https%3A%2F%2Fwww.googleapis.com%2Fauth%2Fdrive.photos.readonly%20https%3A%2F%2Fwww.googleapis.com%2Fauth%2Fpeopleapi.readonly&response_type=code\n",
            "\n",
            "Enter your authorization code:\n",
            "··········\n",
            "Mounted at /content/drive\n"
          ],
          "name": "stdout"
        }
      ]
    },
    {
      "cell_type": "markdown",
      "metadata": {
        "id": "dSS4gFze4qg7",
        "colab_type": "text"
      },
      "source": [
        "# New Section"
      ]
    },
    {
      "cell_type": "code",
      "metadata": {
        "id": "O0Iow0LOC36i",
        "colab_type": "code",
        "outputId": "c2fe811e-9f82-4aca-dac0-10f868b65550",
        "colab": {
          "base_uri": "https://localhost:8080/",
          "height": 136
        }
      },
      "source": [
        "#Downloading Dataset\n",
        "\n",
        "# Install Kaggle library\n",
        "!pip install -q kaggle\n",
        "!echo '{\"username\":\"vivank\",\"key\":\"e466500d397f401fc52798122c90b0dc\"}' > /root/.kaggle/kaggle.json\n",
        "!kaggle datasets download -d rishianand/devanagari-character-set/dataset.csv\n",
        "!unzip /content/devanagari-character-set.zip"
      ],
      "execution_count": 3,
      "outputs": [
        {
          "output_type": "stream",
          "text": [
            "Warning: Your Kaggle API key is readable by other users on this system! To fix this, you can run 'chmod 600 /root/.kaggle/kaggle.json'\n",
            "Downloading devanagari-character-set.zip to /content\n",
            " 93% 93.0M/100M [00:01<00:00, 55.7MB/s]\n",
            "100% 100M/100M [00:01<00:00, 67.0MB/s] \n",
            "Archive:  /content/devanagari-character-set.zip\n",
            "  inflating: Images.zip              \n",
            "  inflating: data.csv                \n"
          ],
          "name": "stdout"
        }
      ]
    },
    {
      "cell_type": "markdown",
      "metadata": {
        "id": "kJIvxERoIgXp",
        "colab_type": "text"
      },
      "source": [
        "This notebook is basically an introduction to using keras's CNN for modeling the devanagiri data set. Keras is a wrapper library who's backend can be either Tensorflow, CNTK or Theano. It's very friendly for quick prototyping and testing ideas (of course, provided your model doesn't take days to compile as well :D ) I use the tensorflow-gpu backend for Keras.\n",
        "\n",
        "So let's get down to it."
      ]
    },
    {
      "cell_type": "markdown",
      "metadata": {
        "id": "2A7lqTJZIkbT",
        "colab_type": "text"
      },
      "source": [
        "# **Import relevant libraries**"
      ]
    },
    {
      "cell_type": "code",
      "metadata": {
        "id": "OmSxj2e3IkC2",
        "colab_type": "code",
        "outputId": "7e9a5a1e-a73f-478b-cde2-d57a6e94037a",
        "colab": {
          "base_uri": "https://localhost:8080/",
          "height": 34
        }
      },
      "source": [
        "# Standard useful data processing imports\n",
        "import random\n",
        "import numpy as np\n",
        "import pandas as pd\n",
        "# Visualisation imports\n",
        "import matplotlib.pyplot as plt\n",
        "import seaborn as sns\n",
        "# Scikit learn for preprocessing\n",
        "from sklearn.model_selection import train_test_split\n",
        "from sklearn.preprocessing import LabelEncoder\n",
        "# Keras Imports - CNN\n",
        "from keras.models import Sequential\n",
        "from keras.layers import Dense, Conv2D, MaxPool2D, Flatten, Dropout\n",
        "from keras.optimizers import Adam\n",
        "from keras.utils.np_utils import to_categorical"
      ],
      "execution_count": 4,
      "outputs": [
        {
          "output_type": "stream",
          "text": [
            "Using TensorFlow backend.\n"
          ],
          "name": "stderr"
        }
      ]
    },
    {
      "cell_type": "markdown",
      "metadata": {
        "id": "BpVRCoDaI1_i",
        "colab_type": "text"
      },
      "source": [
        "Let's have a look at the data now"
      ]
    },
    {
      "cell_type": "code",
      "metadata": {
        "id": "QelJ1kCHDUbm",
        "colab_type": "code",
        "outputId": "05d49f28-3fa4-4945-b3fd-804383fb1c96",
        "colab": {
          "base_uri": "https://localhost:8080/",
          "height": 153
        }
      },
      "source": [
        "# Import the data\n",
        "dataset = pd.read_csv(\"data.csv\")\n",
        "print(dataset.head())"
      ],
      "execution_count": 6,
      "outputs": [
        {
          "output_type": "stream",
          "text": [
            "   pixel_0000  pixel_0001  pixel_0002  ...  pixel_1022  pixel_1023        character\n",
            "0           0           0           0  ...           0           0  character_01_ka\n",
            "1           0           0           0  ...           0           0  character_01_ka\n",
            "2           0           0           0  ...           0           0  character_01_ka\n",
            "3           0           0           0  ...           0           0  character_01_ka\n",
            "4           0           0           0  ...           0           0  character_01_ka\n",
            "\n",
            "[5 rows x 1025 columns]\n"
          ],
          "name": "stdout"
        }
      ]
    },
    {
      "cell_type": "markdown",
      "metadata": {
        "id": "VocVzeFfJAZF",
        "colab_type": "text"
      },
      "source": [
        "A row-major arrangement of 32 x 32 image data in each row with an additional column being the label at the end. Let's just keep them in suitable containers for further use and clear unwanted memory."
      ]
    },
    {
      "cell_type": "code",
      "metadata": {
        "id": "HeLx5l0UFAUJ",
        "colab_type": "code",
        "colab": {}
      },
      "source": [
        "x = dataset.values[:,:-1] / 255.0\n",
        "y = dataset['character'].values\n",
        "n_classes = 46 # Number of classes"
      ],
      "execution_count": 0,
      "outputs": []
    },
    {
      "cell_type": "markdown",
      "metadata": {
        "id": "COAd8SJvJFYu",
        "colab_type": "text"
      },
      "source": [
        "Let's have a look at some of the images. Resize and plot the columns(pixels) in a row."
      ]
    },
    {
      "cell_type": "code",
      "metadata": {
        "id": "-sIAvg1LHMme",
        "colab_type": "code",
        "outputId": "ac958aa6-8b78-42f5-c035-90b91fb0e27b",
        "colab": {
          "base_uri": "https://localhost:8080/",
          "height": 203
        }
      },
      "source": [
        "# Now let's visualise a few random images\n",
        "img_width_cols = 32\n",
        "img_height_rows = 32\n",
        "cutsomcmap = sns.dark_palette(\"white\", as_cmap=True)\n",
        "random_idxs = random.sample(range(1, len(y)), 4)\n",
        "plt_dims = (15, 2.5)\n",
        "f, axarr = plt.subplots(1, 4, figsize=plt_dims)\n",
        "it = 0\n",
        "for idx in random_idxs:\n",
        "    image = x[idx, :].reshape((img_width_cols, img_height_rows)) * 255\n",
        "    axarr[it].set_title(y[idx])\n",
        "    axarr[it].axis('off')\n",
        "    sns.heatmap(data=image.astype(np.uint8), cmap=cutsomcmap, ax=axarr[it])\n",
        "    it = it+1"
      ],
      "execution_count": 8,
      "outputs": [
        {
          "output_type": "display_data",
          "data": {
            "image/png": "[encoded data removed]",
            "text/plain": [
              "<Figure size 1080x180 with 8 Axes>"
            ]
          },
          "metadata": {
            "tags": []
          }
        }
      ]
    },
    {
      "cell_type": "markdown",
      "metadata": {
        "id": "h620wXtXJMoQ",
        "colab_type": "text"
      },
      "source": [
        "At this points, we can split the data into training and validation (test) - an 80/20 split.\n",
        "\n",
        "We can also encode our labels.\n",
        "\n",
        "To do that we first convert the string into Labels.\n",
        "\n",
        "So all the \"character_XX_YY\" labels would be mapped to labels ranging from 0 to 45 ( Because we have 46 classes)\n",
        "\n",
        "After that, we prepare this to be used by Keras by using its to_categorical function."
      ]
    },
    {
      "cell_type": "code",
      "metadata": {
        "id": "MJMAYhXkHUid",
        "colab_type": "code",
        "colab": {}
      },
      "source": [
        "# Let's split the data into train and test data\n",
        "x_train, x_test, y_train, y_test = train_test_split(x, y, test_size=0.20, random_state=42)\n",
        "\n",
        "# Encode the categories\n",
        "le = LabelEncoder()\n",
        "y_train = le.fit_transform(y_train)\n",
        "y_test = le.transform(y_test)\n",
        "y_train = to_categorical(y_train, n_classes)\n",
        "y_test = to_categorical(y_test, n_classes)"
      ],
      "execution_count": 0,
      "outputs": []
    },
    {
      "cell_type": "markdown",
      "metadata": {
        "id": "niISO4VCJRtr",
        "colab_type": "text"
      },
      "source": [
        "Now we shall build the CNN!\n",
        "\n",
        "Actually, no.\n",
        "\n",
        "We'll have to do one final step of reshaping ALL the data before we go forward to build it.\n",
        "\n",
        "Why do we need to reshape the data? Because each data point is in the form of a single row. In this CNN example, we're going to work with IMAGES.\n",
        "\n",
        "The CNN needs images to extract coarse and fine features so that it can train and classify them.\n",
        "\n",
        "So a quick step -\n",
        "\n"
      ]
    },
    {
      "cell_type": "code",
      "metadata": {
        "id": "f0qoo8aYHX8v",
        "colab_type": "code",
        "colab": {}
      },
      "source": [
        "im_shape = (img_height_rows, img_width_cols, 1)\n",
        "x_train = x_train.reshape(x_train.shape[0], *im_shape) # Python TIP :the * operator unpacks the tuple\n",
        "x_test = x_test.reshape(x_test.shape[0], *im_shape)\n"
      ],
      "execution_count": 0,
      "outputs": []
    },
    {
      "cell_type": "markdown",
      "metadata": {
        "id": "EEbSLvywJY4K",
        "colab_type": "text"
      },
      "source": [
        "And NOW we make the model.\n",
        "\n",
        "Let's first define a model. Here we shall use the keras Sequential model, which essentially involves us adding a layer one after the other....sequentially."
      ]
    },
    {
      "cell_type": "code",
      "metadata": {
        "id": "qP8wp8WNJU0N",
        "colab_type": "code",
        "outputId": "6dcde4e3-19ee-4aea-a1b0-d14ffd469d51",
        "colab": {
          "base_uri": "https://localhost:8080/",
          "height": 88
        }
      },
      "source": [
        "cnn = Sequential()"
      ],
      "execution_count": 11,
      "outputs": [
        {
          "output_type": "stream",
          "text": [
            "WARNING: Logging before flag parsing goes to stderr.\n",
            "W0707 14:45:22.787579 139939510839168 deprecation_wrapper.py:119] From /usr/local/lib/python3.6/dist-packages/keras/backend/tensorflow_backend.py:74: The name tf.get_default_graph is deprecated. Please use tf.compat.v1.get_default_graph instead.\n",
            "\n"
          ],
          "name": "stderr"
        }
      ]
    },
    {
      "cell_type": "markdown",
      "metadata": {
        "id": "jvSGTQp8JfgP",
        "colab_type": "text"
      },
      "source": [
        "The real fun part is defining the LAYERS.\n",
        "\n",
        "The first layer, a.k.a the input layer requires a bit of attention in terms of the shape of the data it will be looking at.\n",
        "\n",
        "So just for the first layer, we shall specify the input shape, i.e., the shape of the input image - rows, columns and number of channels.\n",
        "\n",
        "Keras also has this neat API that joins the convolutional and activation layers into 1 API call.\n",
        "\n"
      ]
    },
    {
      "cell_type": "code",
      "metadata": {
        "id": "HGPv0J7IJb8m",
        "colab_type": "code",
        "outputId": "efc6f0c3-a09e-4080-dee6-26780cf6564e",
        "colab": {
          "base_uri": "https://localhost:8080/",
          "height": 105
        }
      },
      "source": [
        "kernelSize = (3, 3)\n",
        "ip_activation = 'relu'\n",
        "ip_conv_0 = Conv2D(filters=32, kernel_size=kernelSize, input_shape=im_shape, activation=ip_activation)\n",
        "cnn.add(ip_conv_0)\n"
      ],
      "execution_count": 12,
      "outputs": [
        {
          "output_type": "stream",
          "text": [
            "W0707 14:45:27.599536 139939510839168 deprecation_wrapper.py:119] From /usr/local/lib/python3.6/dist-packages/keras/backend/tensorflow_backend.py:517: The name tf.placeholder is deprecated. Please use tf.compat.v1.placeholder instead.\n",
            "\n",
            "W0707 14:45:27.617162 139939510839168 deprecation_wrapper.py:119] From /usr/local/lib/python3.6/dist-packages/keras/backend/tensorflow_backend.py:4138: The name tf.random_uniform is deprecated. Please use tf.random.uniform instead.\n",
            "\n"
          ],
          "name": "stderr"
        }
      ]
    },
    {
      "cell_type": "markdown",
      "metadata": {
        "id": "coJkKxbtJk9q",
        "colab_type": "text"
      },
      "source": [
        "So a common trick here used when developing CNN architectures is to add two Convolution+Activation layers back to back BEFORE we proceed to the pooling layer for downsampling.\n",
        "\n",
        "This is done so that the kernel size used at each layer can be small.\n",
        "\n",
        "when multiple convolutional layers are added back to back, the overall effect of the multiple small kernels will be similar to the effect produced by a larger kernel, like having two 3x3 kernels instead of a 7x7 kernel. (Reference link coming soon!)"
      ]
    },
    {
      "cell_type": "code",
      "metadata": {
        "id": "sYSdfNUgJeSa",
        "colab_type": "code",
        "outputId": "f90b030f-85f2-405b-9703-051e7694d0d9",
        "colab": {
          "base_uri": "https://localhost:8080/",
          "height": 71
        }
      },
      "source": [
        "# Add the next Convolutional+Activation layer\n",
        "ip_conv_0_1 = Conv2D(filters=64, kernel_size=kernelSize, activation=ip_activation)\n",
        "cnn.add(ip_conv_0_1)\n",
        "\n",
        "# Add the Pooling layer\n",
        "pool_0 = MaxPool2D(pool_size=(2, 2), strides=(2, 2), padding=\"same\")\n",
        "cnn.add(pool_0)"
      ],
      "execution_count": 13,
      "outputs": [
        {
          "output_type": "stream",
          "text": [
            "W0707 14:45:32.725312 139939510839168 deprecation_wrapper.py:119] From /usr/local/lib/python3.6/dist-packages/keras/backend/tensorflow_backend.py:3976: The name tf.nn.max_pool is deprecated. Please use tf.nn.max_pool2d instead.\n",
            "\n"
          ],
          "name": "stderr"
        }
      ]
    },
    {
      "cell_type": "markdown",
      "metadata": {
        "id": "MIwGdarKJooC",
        "colab_type": "text"
      },
      "source": [
        "Let's do this again. i.e, One more ConvAct + ConvAct + Pool layer sequence."
      ]
    },
    {
      "cell_type": "code",
      "metadata": {
        "id": "tnvjQsTeJmx6",
        "colab_type": "code",
        "colab": {}
      },
      "source": [
        "ip_conv_1 = Conv2D(filters=64, kernel_size=kernelSize, activation=ip_activation)\n",
        "cnn.add(ip_conv_1)\n",
        "ip_conv_1_1 = Conv2D(filters=64, kernel_size=kernelSize, activation=ip_activation)\n",
        "cnn.add(ip_conv_1_1)\n",
        "\n",
        "pool_1 = MaxPool2D(pool_size=(2, 2), strides=(2, 2), padding=\"same\")\n",
        "cnn.add(pool_1)"
      ],
      "execution_count": 0,
      "outputs": []
    },
    {
      "cell_type": "markdown",
      "metadata": {
        "id": "yRwhxv1MJtmh",
        "colab_type": "text"
      },
      "source": [
        "Here's an interesting part. Two common problems with most models is that they either underfit, or they overfit. With a simple CNN such as this, there is a high probability that your model would begin overfitting the data. i.e, it relies on the training data too much.\n",
        "\n",
        "There are multiple ways to address the problem of overfitting. This is a pretty neat [site](https://towardsdatascience.com/deep-learning-3-more-on-cnns-handling-overfitting-2bd5d99abe5d) which talks about this succintly.\n",
        "\n",
        "We have 92000 data points to play with. I'm avoiding augmentation for the same reason.\n",
        "\n",
        "For our case, we will use a simple Dropout layer to make sure the network does not depend on the training data too much."
      ]
    },
    {
      "cell_type": "code",
      "metadata": {
        "id": "0B8XDy9OJqsW",
        "colab_type": "code",
        "outputId": "e4bb726b-9638-4ada-f027-5595a1a12b05",
        "colab": {
          "base_uri": "https://localhost:8080/",
          "height": 122
        }
      },
      "source": [
        "# Let's deactivate around 20% of neurons randomly for training\n",
        "drop_layer_0 = Dropout(0.2)\n",
        "cnn.add(drop_layer_0)"
      ],
      "execution_count": 15,
      "outputs": [
        {
          "output_type": "stream",
          "text": [
            "W0707 14:45:41.411996 139939510839168 deprecation_wrapper.py:119] From /usr/local/lib/python3.6/dist-packages/keras/backend/tensorflow_backend.py:133: The name tf.placeholder_with_default is deprecated. Please use tf.compat.v1.placeholder_with_default instead.\n",
            "\n",
            "W0707 14:45:41.428325 139939510839168 deprecation.py:506] From /usr/local/lib/python3.6/dist-packages/keras/backend/tensorflow_backend.py:3445: calling dropout (from tensorflow.python.ops.nn_ops) with keep_prob is deprecated and will be removed in a future version.\n",
            "Instructions for updating:\n",
            "Please use `rate` instead of `keep_prob`. Rate should be set to `rate = 1 - keep_prob`.\n"
          ],
          "name": "stderr"
        }
      ]
    },
    {
      "cell_type": "markdown",
      "metadata": {
        "id": "qPw9OjZOJ2nb",
        "colab_type": "text"
      },
      "source": [
        "we are done with the Convolutional layers, and will proceed to send this data to the Fully Connected ANN. To do this, our data must be a 1D vector and not a 2D image. So we flatten it."
      ]
    },
    {
      "cell_type": "code",
      "metadata": {
        "id": "RkLNiaomJ2Tg",
        "colab_type": "code",
        "colab": {}
      },
      "source": [
        "flat_layer_0 = Flatten()\n",
        "cnn.add(Flatten())"
      ],
      "execution_count": 0,
      "outputs": []
    },
    {
      "cell_type": "markdown",
      "metadata": {
        "id": "4rPQld5vJ7lj",
        "colab_type": "text"
      },
      "source": [
        "And proceed to the ANN -\n",
        "\n"
      ]
    },
    {
      "cell_type": "code",
      "metadata": {
        "id": "6yzsl55MJ6gO",
        "colab_type": "code",
        "colab": {}
      },
      "source": [
        "# Now add the Dense layers\n",
        "h_dense_0 = Dense(units=128, activation=ip_activation, kernel_initializer='uniform')\n",
        "cnn.add(h_dense_0)\n",
        "# Let's add one more before proceeding to the output layer\n",
        "h_dense_1 = Dense(units=64, activation=ip_activation, kernel_initializer='uniform')\n",
        "cnn.add(h_dense_1)"
      ],
      "execution_count": 0,
      "outputs": []
    },
    {
      "cell_type": "markdown",
      "metadata": {
        "id": "uZgf6HIlKGyN",
        "colab_type": "text"
      },
      "source": [
        "Our problem is classification. So succeeding the final layer, we use a softmax activation function to classify our labels."
      ]
    },
    {
      "cell_type": "code",
      "metadata": {
        "id": "FrPHUWnkJz8l",
        "colab_type": "code",
        "colab": {}
      },
      "source": [
        "op_activation = 'softmax'\n",
        "output_layer = Dense(units=n_classes, activation=op_activation, kernel_initializer='uniform')\n",
        "cnn.add(output_layer)"
      ],
      "execution_count": 0,
      "outputs": []
    },
    {
      "cell_type": "markdown",
      "metadata": {
        "id": "X0OnBcepKRDT",
        "colab_type": "text"
      },
      "source": [
        "Almost done. Now we just need to define the optimizer and loss functions to minimize and compile the CNN"
      ]
    },
    {
      "cell_type": "code",
      "metadata": {
        "id": "b1WyuKHsKQll",
        "colab_type": "code",
        "outputId": "d8ce59ec-9a79-47a9-a339-d7d6680d6080",
        "colab": {
          "base_uri": "https://localhost:8080/",
          "height": 105
        }
      },
      "source": [
        "opt = 'adam'\n",
        "loss = 'categorical_crossentropy'\n",
        "metrics = ['accuracy']\n",
        "# Compile the classifier using the configuration we want\n",
        "cnn.compile(optimizer=opt, loss=loss, metrics=metrics)\n"
      ],
      "execution_count": 19,
      "outputs": [
        {
          "output_type": "stream",
          "text": [
            "W0707 14:45:53.032018 139939510839168 deprecation_wrapper.py:119] From /usr/local/lib/python3.6/dist-packages/keras/optimizers.py:790: The name tf.train.Optimizer is deprecated. Please use tf.compat.v1.train.Optimizer instead.\n",
            "\n",
            "W0707 14:45:53.070872 139939510839168 deprecation_wrapper.py:119] From /usr/local/lib/python3.6/dist-packages/keras/backend/tensorflow_backend.py:3295: The name tf.log is deprecated. Please use tf.math.log instead.\n",
            "\n"
          ],
          "name": "stderr"
        }
      ]
    },
    {
      "cell_type": "markdown",
      "metadata": {
        "id": "OuUAW0iBKWKt",
        "colab_type": "text"
      },
      "source": [
        "And now we train our model! "
      ]
    },
    {
      "cell_type": "code",
      "metadata": {
        "id": "eUpjlTngKVGA",
        "colab_type": "code",
        "outputId": "f652c768-b8f7-4c22-b005-87448f7080ff",
        "colab": {
          "base_uri": "https://localhost:8080/",
          "height": 785
        }
      },
      "source": [
        "history = cnn.fit(x_train, y_train,\n",
        "                  batch_size=32, epochs=20,\n",
        "                  validation_data=(x_test, y_test))"
      ],
      "execution_count": 20,
      "outputs": [
        {
          "output_type": "stream",
          "text": [
            "W0707 14:45:55.303645 139939510839168 deprecation.py:323] From /usr/local/lib/python3.6/dist-packages/tensorflow/python/ops/math_grad.py:1250: add_dispatch_support.<locals>.wrapper (from tensorflow.python.ops.array_ops) is deprecated and will be removed in a future version.\n",
            "Instructions for updating:\n",
            "Use tf.where in 2.0, which has the same broadcast rule as np.where\n"
          ],
          "name": "stderr"
        },
        {
          "output_type": "stream",
          "text": [
            "Train on 73600 samples, validate on 18400 samples\n",
            "Epoch 1/20\n",
            "73600/73600 [==============================] - 55s 753us/step - loss: 0.6392 - acc: 0.8118 - val_loss: 0.2167 - val_acc: 0.9320\n",
            "Epoch 2/20\n",
            "73600/73600 [==============================] - 48s 649us/step - loss: 0.1710 - acc: 0.9461 - val_loss: 0.1280 - val_acc: 0.9617\n",
            "Epoch 3/20\n",
            "73600/73600 [==============================] - 48s 649us/step - loss: 0.1126 - acc: 0.9647 - val_loss: 0.1561 - val_acc: 0.9529\n",
            "Epoch 4/20\n",
            "73600/73600 [==============================] - 48s 649us/step - loss: 0.0838 - acc: 0.9734 - val_loss: 0.0929 - val_acc: 0.9737\n",
            "Epoch 5/20\n",
            "73600/73600 [==============================] - 48s 648us/step - loss: 0.0649 - acc: 0.9794 - val_loss: 0.0777 - val_acc: 0.9767\n",
            "Epoch 6/20\n",
            "73600/73600 [==============================] - 48s 646us/step - loss: 0.0579 - acc: 0.9815 - val_loss: 0.0738 - val_acc: 0.9797\n",
            "Epoch 7/20\n",
            "73600/73600 [==============================] - 48s 649us/step - loss: 0.0493 - acc: 0.9843 - val_loss: 0.0633 - val_acc: 0.9814\n",
            "Epoch 8/20\n",
            "73600/73600 [==============================] - 48s 647us/step - loss: 0.0416 - acc: 0.9867 - val_loss: 0.0872 - val_acc: 0.9782\n",
            "Epoch 9/20\n",
            "73600/73600 [==============================] - 48s 650us/step - loss: 0.0384 - acc: 0.9877 - val_loss: 0.0714 - val_acc: 0.9820\n",
            "Epoch 10/20\n",
            "73600/73600 [==============================] - 48s 647us/step - loss: 0.0337 - acc: 0.9895 - val_loss: 0.0784 - val_acc: 0.9811\n",
            "Epoch 11/20\n",
            "73600/73600 [==============================] - 47s 644us/step - loss: 0.0325 - acc: 0.9897 - val_loss: 0.0674 - val_acc: 0.9817\n",
            "Epoch 12/20\n",
            "73600/73600 [==============================] - 48s 646us/step - loss: 0.0292 - acc: 0.9906 - val_loss: 0.0720 - val_acc: 0.9824\n",
            "Epoch 13/20\n",
            "73600/73600 [==============================] - 47s 645us/step - loss: 0.0277 - acc: 0.9911 - val_loss: 0.0730 - val_acc: 0.9826\n",
            "Epoch 14/20\n",
            "73600/73600 [==============================] - 48s 649us/step - loss: 0.0254 - acc: 0.9921 - val_loss: 0.0698 - val_acc: 0.9845\n",
            "Epoch 15/20\n",
            "73600/73600 [==============================] - 48s 647us/step - loss: 0.0243 - acc: 0.9927 - val_loss: 0.0684 - val_acc: 0.9842\n",
            "Epoch 16/20\n",
            "73600/73600 [==============================] - 47s 643us/step - loss: 0.0238 - acc: 0.9923 - val_loss: 0.0608 - val_acc: 0.9872\n",
            "Epoch 17/20\n",
            "73600/73600 [==============================] - 47s 645us/step - loss: 0.0241 - acc: 0.9922 - val_loss: 0.0743 - val_acc: 0.9836\n",
            "Epoch 18/20\n",
            "73600/73600 [==============================] - 47s 644us/step - loss: 0.0219 - acc: 0.9934 - val_loss: 0.0730 - val_acc: 0.9839\n",
            "Epoch 19/20\n",
            "73600/73600 [==============================] - 47s 644us/step - loss: 0.0224 - acc: 0.9929 - val_loss: 0.0708 - val_acc: 0.9842\n",
            "Epoch 20/20\n",
            "73600/73600 [==============================] - 48s 648us/step - loss: 0.0200 - acc: 0.9940 - val_loss: 0.0779 - val_acc: 0.9830\n"
          ],
          "name": "stdout"
        }
      ]
    },
    {
      "cell_type": "markdown",
      "metadata": {
        "id": "H3On04RdLr0X",
        "colab_type": "text"
      },
      "source": [
        "Let's see how well we did by looking at accuracy.\n",
        "\n"
      ]
    },
    {
      "cell_type": "code",
      "metadata": {
        "id": "90JcQMeVKfJg",
        "colab_type": "code",
        "colab": {
          "base_uri": "https://localhost:8080/",
          "height": 34
        },
        "outputId": "b3910428-df45-43c9-ff2d-0d934f187b5a"
      },
      "source": [
        "scores = cnn.evaluate(x_test, y_test, verbose=0)\n",
        "print(\"Accuracy: %.2f%%\" % (scores[1]*100))\n"
      ],
      "execution_count": 21,
      "outputs": [
        {
          "output_type": "stream",
          "text": [
            "Accuracy: 98.30%\n"
          ],
          "name": "stdout"
        }
      ]
    },
    {
      "cell_type": "markdown",
      "metadata": {
        "id": "sOqQjqe5LvfH",
        "colab_type": "text"
      },
      "source": [
        "Plot a graph of how the model learnt over its epochs -"
      ]
    },
    {
      "cell_type": "code",
      "metadata": {
        "id": "4wbxdjbJLu1B",
        "colab_type": "code",
        "colab": {
          "base_uri": "https://localhost:8080/",
          "height": 312
        },
        "outputId": "1c22c2ee-604a-473d-9a80-dce30fa95ea0"
      },
      "source": [
        "# Accuracy\n",
        "print(history)\n",
        "fig1, ax_acc = plt.subplots()\n",
        "plt.plot(history.history['acc'])\n",
        "plt.plot(history.history['val_acc'])\n",
        "plt.xlabel('Epoch')\n",
        "plt.ylabel('Accuracy')\n",
        "plt.title('Model - Accuracy')\n",
        "plt.legend(['Training', 'Validation'], loc='lower right')\n",
        "plt.show()\n"
      ],
      "execution_count": 22,
      "outputs": [
        {
          "output_type": "stream",
          "text": [
            "<keras.callbacks.History object at 0x7f45548b3710>\n"
          ],
          "name": "stdout"
        },
        {
          "output_type": "display_data",
          "data": {
            "image/png": "[encoded data removed]",
            "text/plain": [
              "<Figure size 432x288 with 1 Axes>"
            ]
          },
          "metadata": {
            "tags": []
          }
        }
      ]
    },
    {
      "cell_type": "code",
      "metadata": {
        "id": "H-PE9wWPL0SE",
        "colab_type": "code",
        "colab": {
          "base_uri": "https://localhost:8080/",
          "height": 295
        },
        "outputId": "40fd39ca-fb2f-45d1-9818-a2a0f30ee203"
      },
      "source": [
        "# Loss\n",
        "fig2, ax_loss = plt.subplots()\n",
        "plt.xlabel('Epoch')\n",
        "plt.ylabel('Loss')\n",
        "plt.title('Model- Loss')\n",
        "plt.legend(['Training', 'Validation'], loc='upper right')\n",
        "plt.plot(history.history['loss'])\n",
        "plt.plot(history.history['val_loss'])\n",
        "plt.show()"
      ],
      "execution_count": 23,
      "outputs": [
        {
          "output_type": "display_data",
          "data": {
            "image/png": "[encoded data removed]",
            "text/plain": [
              "<Figure size 432x288 with 1 Axes>"
            ]
          },
          "metadata": {
            "tags": []
          }
        }
      ]
    },
    {
      "cell_type": "markdown",
      "metadata": {
        "id": "ZDBLn2ssL39Q",
        "colab_type": "text"
      },
      "source": [
        "And that would be all.\n",
        "\n",
        "#Thanks!"
      ]
    }
  ]
}